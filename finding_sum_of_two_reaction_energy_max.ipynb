{
  "nbformat": 4,
  "nbformat_minor": 0,
  "metadata": {
    "colab": {
      "name": "finding sum of two reaction energy max.ipynb",
      "provenance": [],
      "collapsed_sections": [],
      "authorship_tag": "ABX9TyNXte1o80/f9Eegg9E7yJXn",
      "include_colab_link": true
    },
    "kernelspec": {
      "name": "python3",
      "display_name": "Python 3"
    },
    "language_info": {
      "name": "python"
    }
  },
  "cells": [
    {
      "cell_type": "markdown",
      "metadata": {
        "id": "view-in-github",
        "colab_type": "text"
      },
      "source": [
        "<a href=\"https://colab.research.google.com/github/maheshmahajan133/P1/blob/main/finding_sum_of_two_reaction_energy_max.ipynb\" target=\"_parent\"><img src=\"https://colab.research.google.com/assets/colab-badge.svg\" alt=\"Open In Colab\"/></a>"
      ]
    },
    {
      "cell_type": "code",
      "metadata": {
        "colab": {
          "base_uri": "https://localhost:8080/"
        },
        "id": "r7gkso1wqQWy",
        "outputId": "f1a6f71f-818b-4695-f0ed-d3dc9a877d71"
      },
      "source": [
        "n=input(int())\n",
        "n=int(n)\n",
        "i=0\n",
        "l=[]*n\n",
        "for i in range(n):\n",
        "  l.append(i)\n",
        "print(l)\n",
        "for i in range(n):\n",
        "  m=input(int())\n",
        "  l[i]=m\n",
        "l.sort()\n",
        "v=l[-1]\n",
        "v2=l[-2]\n",
        "print(int(v)+int(v2))\n",
        "\n",
        "i=0\n",
        "while n>0:\n",
        "  temp=l[i]\n",
        "  if l[i]>temp:\n",
        "    temp=l[i]\n",
        "  else :\n",
        "    pass\n",
        "  if temp==l[i]:\n",
        "    b=i\n",
        "    print(\"index value is :\",b)\n",
        "  n=n-1\n",
        "  i=i+1\n",
        "l.pop(b)\n",
        "i=0\n",
        "temp1=0\n",
        "while n>0:\n",
        "  temp1=l[i]\n",
        "  if l[i]>temp1:\n",
        "    temp1=l[i]\n",
        "  else :\n",
        "    pass\n",
        "  n=n-1\n",
        "  i=i+1\n",
        "print(int(temp)+int(temp1)) \n",
        "\n",
        "\n",
        "\n",
        "\n",
        "\n",
        "\n",
        "\n",
        "\n",
        "\n",
        "\n"
      ],
      "execution_count": 57,
      "outputs": [
        {
          "output_type": "stream",
          "name": "stdout",
          "text": [
            "3\n",
            "[0, 1, 2]\n",
            "02\n",
            "3\n",
            "5\n",
            "8\n",
            "index value is : 0\n",
            "index value is : 1\n",
            "index value is : 2\n",
            "5\n"
          ]
        }
      ]
    }
  ]
}