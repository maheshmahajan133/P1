{
  "nbformat": 4,
  "nbformat_minor": 0,
  "metadata": {
    "colab": {
      "name": "relative humidity and sat pressure of the air  and diffusivity .ipynb",
      "provenance": [],
      "authorship_tag": "ABX9TyO2hQ7AETIwLmhcDAthk47e",
      "include_colab_link": true
    },
    "kernelspec": {
      "name": "python3",
      "display_name": "Python 3"
    },
    "language_info": {
      "name": "python"
    }
  },
  "cells": [
    {
      "cell_type": "markdown",
      "metadata": {
        "id": "view-in-github",
        "colab_type": "text"
      },
      "source": [
        "<a href=\"https://colab.research.google.com/github/maheshmahajan133/P1/blob/main/relative_humidity_and_sat_pressure_of_the_air_and_diffusivity_.ipynb\" target=\"_parent\"><img src=\"https://colab.research.google.com/assets/colab-badge.svg\" alt=\"Open In Colab\"/></a>"
      ]
    },
    {
      "cell_type": "code",
      "metadata": {
        "colab": {
          "base_uri": "https://localhost:8080/"
        },
        "id": "8ggMUQ6YoQVx",
        "outputId": "d7b644ee-54c7-45c9-ec51-212ab921dc47"
      },
      "source": [
        "import numpy as np\n",
        "# To calculate the vapor pressure of the solution\n",
        "t_air=temp=float(input(\"Enter the temperature in degree celcius for air:\"))\n",
        "t_air1=t_air\n",
        "t_des=temp_desiccant=float(input(\"Enter the desiccant inlet temperature in degree celcius:\"))\n",
        "t_des1=t_des\n",
        "\n",
        "x=conc3=float(input(\"Enter the Concentration of the solution:\"))\n",
        "x1=x\n",
        "T=273.15+t_des\n",
        "z=T/647.096\n",
        "Z1=np.exp((1/z)*(-7.85951783*(1-z)+1.84408259*(1-z)**1.5-11.7866497*(1-z)**3+22.6807411*(1-z)**3.5-15.9618719*(1-z)**4+1.86122502*(1-z)**7.5))\n",
        "ps_water_temp=22064*Z1*1000  #in pa water saturation pressure\n",
        "z0=0.28\n",
        "z1=4.30\n",
        "z2=0.60\n",
        "z3=0.21\n",
        "z4=5.10\n",
        "z5=0.49\n",
        "z6=0.362\n",
        "z7=-4.75\n",
        "z8=-0.40\n",
        "z9=0.03\n",
        "M=2-(1+(x/z0)**z1)**z2\n",
        "N=(1+(x/z3)**z4)**z5-1\n",
        "z10=M+N*z\n",
        "z11=1-(1+(x/z6)**z7)**z8-z9*np.exp((x-0.1)**2/(-0.005))\n",
        "pressure_solution_conc_temp=z10*z11*ps_water_temp      #pa\n",
        "print(pressure_solution_conc_temp)\n",
        "dY_N=float(input(\"Enter the inlet specific moisture in Kg/Kg of dry air :\")) #Kg/Kg of dry air\n",
        "dY1_N=dY_N\n",
        "import math\n",
        "\n",
        "P_v_sat=610.78*(math.exp((17.2693882*((t_air+273.15-273.16))/((t_air+273.15)-35.86))))\n",
        "RH=pressure_solution_conc_temp/P_v_sat\n",
        "print(RH)\n",
        "D_l=-3.84*10**(-9)+9.18*10**(-10)/RH-4.06*10**(-10)/(RH**2)+5.61*10**(-11)/(RH**3)+6.38*10**(-10)*t_air-4.88*10**(-11)*t_air**2+1.82*10**(-12)*t_air**3-3.29*10**(-14)*t_air**4+2.33*10**(-16)*t_air**5\n",
        "\n",
        "print(D_l)"
      ],
      "execution_count": 12,
      "outputs": [
        {
          "output_type": "stream",
          "name": "stdout",
          "text": [
            "0.3035489408978155\n",
            "9.505718931629756e-11\n"
          ]
        }
      ]
    }
  ]
}